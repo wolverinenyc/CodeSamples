{
 "cells": [
  {
   "cell_type": "code",
   "execution_count": 49,
   "metadata": {},
   "outputs": [],
   "source": [
    "import statsmodels.stats.power as power\n",
    "import numpy as np\n",
    "import pandas as pd"
   ]
  },
  {
   "cell_type": "markdown",
   "metadata": {},
   "source": [
    "# 1. Power Analysis to Estimate Treatment Effects on Binary Outcomes"
   ]
  },
  {
   "cell_type": "markdown",
   "metadata": {},
   "source": [
    "## Determine Sample Size Necessary to Detect Treatment Effects: Define our own function"
   ]
  },
  {
   "cell_type": "code",
   "execution_count": 19,
   "metadata": {},
   "outputs": [],
   "source": [
    "def get_nobs_each_group(control_success_rate,pct_impact):\n",
    "    treated_success_rate = control_success_rate * (1+pct_impact)\n",
    "    nobs_each_group = (control_success_rate * (1-control_success_rate) + treated_success_rate*(1-treated_success_rate)) \\\n",
    "                  * ((2.8/(treated_success_rate-control_success_rate))**2)\n",
    "    return nobs_each_group"
   ]
  },
  {
   "cell_type": "code",
   "execution_count": 29,
   "metadata": {},
   "outputs": [
    {
     "name": "stdout",
     "output_type": "stream",
     "text": [
      "Sample Size per Group: 1011\n"
     ]
    }
   ],
   "source": [
    "control_success_rate = 0.60\n",
    "pct_impact = 0.1\n",
    "\n",
    "print(\"Sample Size per Group: {:.0f}\".format(get_nobs_each_group(control_success_rate,pct_impact)))"
   ]
  },
  {
   "cell_type": "markdown",
   "metadata": {},
   "source": [
    "## Compare to Statsmodels Package: Requires Pooled Standard Errors"
   ]
  },
  {
   "cell_type": "code",
   "execution_count": 34,
   "metadata": {},
   "outputs": [
    {
     "name": "stdout",
     "output_type": "stream",
     "text": [
      "Sample Size per Group: 1017\n"
     ]
    }
   ],
   "source": [
    "treated_success_rate = control_success_rate * (1+pct_impact)\n",
    "pooled_success_rate = (control_success_rate + treated_success_rate)/2\n",
    "pooled_se = np.sqrt(pooled_success_rate*(1-pooled_success_rate))\n",
    "effect_size = (treated_success_rate-control_success_rate)/pooled_se\n",
    "\n",
    "print(\"Sample Size per Group: {:.0f}\".format(power.tt_ind_solve_power(effect_size=effect_size, \n",
    "       nobs1=None,alpha=.05,power=.80,ratio=1.0,alternative='two-sided')))"
   ]
  },
  {
   "cell_type": "markdown",
   "metadata": {},
   "source": [
    "## Required Sample Size is Sensitive to Both Control Success Rate and Treatment Effect"
   ]
  },
  {
   "cell_type": "code",
   "execution_count": 59,
   "metadata": {},
   "outputs": [
    {
     "name": "stdout",
     "output_type": "stream",
     "text": [
      "    control_success_rate  pct_impact  nobs_each_group\n",
      "0                   0.50        0.08          2442.16\n",
      "1                   0.50        0.10          1560.16\n",
      "2                   0.50        0.12          1081.05\n",
      "3                   0.55        0.08          1978.89\n",
      "4                   0.55        0.10          1260.81\n",
      "5                   0.55        0.12           871.19\n",
      "6                   0.60        0.08          1592.83\n",
      "7                   0.60        0.10          1011.36\n",
      "8                   0.60        0.12           696.31\n",
      "9                   0.65        0.08          1266.16\n",
      "10                  0.65        0.10           800.28\n",
      "11                  0.65        0.12           548.33\n",
      "12                  0.70        0.08           986.16\n",
      "13                  0.70        0.10           619.36\n",
      "14                  0.70        0.12           421.49\n"
     ]
    }
   ],
   "source": [
    "results = pd.DataFrame(columns=['control_success_rate','pct_impact','nobs_each_group'])\n",
    "idx = 0\n",
    "for csr in np.arange(0.5,0.71,0.05):\n",
    "    for impact in np.arange(0.08,.13,.02):\n",
    "        nobs1=get_nobs_each_group(csr,impact)\n",
    "        tmp = pd.DataFrame({'control_success_rate':csr,'pct_impact':impact,'nobs_each_group':nobs1},index=[idx])\n",
    "        results=results.append(tmp)\n",
    "        idx += 1\n",
    "print(results.round(2))"
   ]
  },
  {
   "cell_type": "markdown",
   "metadata": {},
   "source": [
    "## Add Experiment Runtime Based on Average Daily Users"
   ]
  },
  {
   "cell_type": "code",
   "execution_count": 65,
   "metadata": {},
   "outputs": [
    {
     "name": "stdout",
     "output_type": "stream",
     "text": [
      "    control_success_rate  pct_impact  nobs_each_group  runtime_days\n",
      "0                   0.50        0.08          2442.16         19.54\n",
      "1                   0.50        0.10          1560.16         12.48\n",
      "2                   0.50        0.12          1081.05          8.65\n",
      "3                   0.55        0.08          1978.89         15.83\n",
      "4                   0.55        0.10          1260.81         10.09\n",
      "5                   0.55        0.12           871.19          6.97\n",
      "6                   0.60        0.08          1592.83         12.74\n",
      "7                   0.60        0.10          1011.36          8.09\n",
      "8                   0.60        0.12           696.31          5.57\n",
      "9                   0.65        0.08          1266.16         10.13\n",
      "10                  0.65        0.10           800.28          6.40\n",
      "11                  0.65        0.12           548.33          4.39\n",
      "12                  0.70        0.08           986.16          7.89\n",
      "13                  0.70        0.10           619.36          4.95\n",
      "14                  0.70        0.12           421.49          3.37\n"
     ]
    }
   ],
   "source": [
    "avg_daily_users = 250\n",
    "results['runtime_days'] = 2*results['nobs_each_group']/avg_daily_users\n",
    "print(results.round(2))"
   ]
  },
  {
   "cell_type": "markdown",
   "metadata": {},
   "source": [
    "## Calculate Minimum Detectable Treatment Effect for Possible Experiment Runtimes"
   ]
  },
  {
   "cell_type": "code",
   "execution_count": 72,
   "metadata": {},
   "outputs": [
    {
     "name": "stdout",
     "output_type": "stream",
     "text": [
      "  Runtime Total_Sample  N_Each_Group  MDE_pp  MDE_pct\n",
      "0       2          500         250.0   0.121    0.202\n",
      "0       4         1000         500.0   0.085    0.142\n",
      "0       6         1500         750.0   0.070    0.116\n",
      "0       8         2000        1000.0   0.060    0.101\n",
      "0      10         2500        1250.0   0.054    0.090\n",
      "0      12         3000        1500.0   0.049    0.082\n",
      "0      14         3500        1750.0   0.046    0.076\n",
      "0      16         4000        2000.0   0.043    0.071\n",
      "0      18         4500        2250.0   0.040    0.067\n",
      "0      20         5000        2500.0   0.038    0.064\n"
     ]
    }
   ],
   "source": [
    "mde_results = pd.DataFrame(columns=['Runtime','Total_Sample','N_Each_Group','MDE_pp','MDE_pct'])\n",
    "control_success_rate = 0.6\n",
    "pct_impact = 0.1\n",
    "pooled_success_rate = 0.5*(control_success_rate + control_success_rate*(1+pct_impact))\n",
    "idx = 0\n",
    "for days in range(2,21,2):\n",
    "    sample = avg_daily_users * days\n",
    "    nobs1 = 0.5*sample\n",
    "    mde_pp = 2.8*np.sqrt(pooled_success_rate*(1-pooled_success_rate)/(0.25*sample))\n",
    "    mde_pct = mde_pp / control_success_rate\n",
    "    tmp = pd.DataFrame({'Runtime':days,'Total_Sample':sample,'N_Each_Group':nobs1,\n",
    "                        'MDE_pp':mde_pp,'MDE_pct':mde_pct},index=[idx])\n",
    "    mde_results=mde_results.append(tmp)\n",
    "\n",
    "print(mde_results.round(3))"
   ]
  },
  {
   "cell_type": "code",
   "execution_count": null,
   "metadata": {},
   "outputs": [],
   "source": []
  }
 ],
 "metadata": {
  "kernelspec": {
   "display_name": "Python 3",
   "language": "python",
   "name": "python3"
  },
  "language_info": {
   "codemirror_mode": {
    "name": "ipython",
    "version": 3
   },
   "file_extension": ".py",
   "mimetype": "text/x-python",
   "name": "python",
   "nbconvert_exporter": "python",
   "pygments_lexer": "ipython3",
   "version": "3.7.4"
  }
 },
 "nbformat": 4,
 "nbformat_minor": 2
}
