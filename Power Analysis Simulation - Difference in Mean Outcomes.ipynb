{
 "cells": [
  {
   "cell_type": "code",
   "execution_count": 3,
   "metadata": {},
   "outputs": [],
   "source": [
    "import numpy as np\n",
    "import pandas as pd\n",
    "import statsmodels.formula.api as smf\n",
    "import math\n"
   ]
  },
  {
   "cell_type": "markdown",
   "metadata": {},
   "source": [
    "### Set Initial Parameters. Here, the control group has a mean outcome of 40 while the treatment has a mean outcome of 60. They have equal variance. The formula calculates the total sample size necessary to detect this difference with 80% power"
   ]
  },
  {
   "cell_type": "code",
   "execution_count": 4,
   "metadata": {},
   "outputs": [
    {
     "name": "stdout",
     "output_type": "stream",
     "text": [
      "1537\n"
     ]
    }
   ],
   "source": [
    "np.random.seed(12345)\n",
    "iterations = 1000\n",
    "\n",
    "control_mean = 40\n",
    "treatment_mean = 50\n",
    "control_std = 70\n",
    "treatment_std = 70\n",
    "N = math.ceil(2*(control_std**2+treatment_std**2)*((2.8/(treatment_mean-control_mean))**2))\n",
    "print(N)"
   ]
  },
  {
   "cell_type": "markdown",
   "metadata": {},
   "source": [
    "### Create a data set of length N as required to detect the difference in means above. Split the sample equally into treatment and control. Control and treatment obs draw from the distributions as defined above."
   ]
  },
  {
   "cell_type": "code",
   "execution_count": 6,
   "metadata": {},
   "outputs": [
    {
     "name": "stdout",
     "output_type": "stream",
     "text": [
      "treatment\n",
      "0.0    40.536164\n",
      "1.0    48.089782\n",
      "Name: outcome, dtype: float64\n"
     ]
    }
   ],
   "source": [
    "x = np.random.normal(loc=control_mean,scale=control_std,size=N)\n",
    "n2 = round(N/2)\n",
    "df = pd.DataFrame(np.random.uniform(0,1,size=(N,3)), columns=list(['treatment','control_draw','treated_draw']))\n",
    "df.iloc[0:n2,0]=0\n",
    "df.iloc[n2:,0]=1\n",
    "df['control_draw'] = np.random.normal(loc=control_mean,scale=control_std,size=N)\n",
    "df['treated_draw'] = np.random.normal(loc=treatment_mean,scale=treatment_std,size=N)\n",
    "df['outcome'] = np.where(df['treatment']==0,df['control_draw'],df['treated_draw'])\n",
    "print(df.groupby('treatment')['outcome'].agg('mean'))"
   ]
  },
  {
   "cell_type": "code",
   "execution_count": 3,
   "metadata": {},
   "outputs": [],
   "source": [
    "def create_sample(N,control_mean,control_std,treatment_mean,treatment_std):\n",
    "  n2 = round(N/2)\n",
    "  df = pd.DataFrame(np.random.uniform(0,1,size=(N,3)), columns=list(['treatment','control_draw','treated_draw']))\n",
    "  df.iloc[0:n2,0]=0\n",
    "  df.iloc[n2:,0]=1\n",
    "  df['control_draw'] = np.random.normal(loc=control_mean,scale=control_std,size=N)\n",
    "  df['treated_draw'] = np.random.normal(loc=treatment_mean,scale=treatment_std,size=N)\n",
    "  df['outcome'] = np.where(df['treatment']==0,df['control_draw'],df['treated_draw'])\n",
    "  return df"
   ]
  },
  {
   "cell_type": "markdown",
   "metadata": {},
   "source": [
    "### For each iteration, we generate a new sample and estimate a linear regression that is equivalent to a two-sample t-test. Save the t-statistics from each simulation."
   ]
  },
  {
   "cell_type": "code",
   "execution_count": 4,
   "metadata": {},
   "outputs": [],
   "source": [
    "def get_t_list(iterations,N):\n",
    "  tlist = list()\n",
    "  for i in range(iterations):\n",
    "    df = create_sample(N,control_success,treatment_success)\n",
    "    formula = 'outcome~treatment'\n",
    "    model = smf.ols(data=df,formula=formula).fit()\n",
    "    t=model.tvalues[1]\n",
    "    tlist.append(t)\n",
    "  return tlist"
   ]
  },
  {
   "cell_type": "markdown",
   "metadata": {},
   "source": [
    "### Show one example simulation"
   ]
  },
  {
   "cell_type": "code",
   "execution_count": 5,
   "metadata": {},
   "outputs": [
    {
     "name": "stdout",
     "output_type": "stream",
     "text": [
      "                            OLS Regression Results                            \n",
      "==============================================================================\n",
      "Dep. Variable:                outcome   R-squared:                       0.002\n",
      "Model:                            OLS   Adj. R-squared:                  0.002\n",
      "Method:                 Least Squares   F-statistic:                     6.706\n",
      "Date:                Mon, 31 May 2021   Prob (F-statistic):            0.00966\n",
      "Time:                        13:56:04   Log-Likelihood:                -1817.4\n",
      "No. Observations:                2745   AIC:                             3639.\n",
      "Df Residuals:                    2743   BIC:                             3651.\n",
      "Df Model:                           1                                         \n",
      "Covariance Type:            nonrobust                                         \n",
      "==============================================================================\n",
      "                 coef    std err          t      P>|t|      [0.025      0.975]\n",
      "------------------------------------------------------------------------------\n",
      "Intercept      0.3054      0.013     24.104      0.000       0.281       0.330\n",
      "treatment      0.0464      0.018      2.590      0.010       0.011       0.082\n",
      "==============================================================================\n",
      "Omnibus:                    20309.803   Durbin-Watson:                   1.973\n",
      "Prob(Omnibus):                  0.000   Jarque-Bera (JB):              485.765\n",
      "Skew:                           0.727   Prob(JB):                    3.29e-106\n",
      "Kurtosis:                       1.540   Cond. No.                         2.62\n",
      "==============================================================================\n",
      "\n",
      "Warnings:\n",
      "[1] Standard Errors assume that the covariance matrix of the errors is correctly specified.\n"
     ]
    }
   ],
   "source": [
    "df = create_sample(N,control_success,treatment_success)\n",
    "formula = 'outcome~treatment'\n",
    "model = smf.ols(data=df,formula=formula).fit()\n",
    "print(model.summary())"
   ]
  },
  {
   "cell_type": "markdown",
   "metadata": {},
   "source": [
    "### With the appropriate sample size and sufficiently large number of iterations, the share of simulations that are statistically significant should be very close to 80% by design. "
   ]
  },
  {
   "cell_type": "code",
   "execution_count": 6,
   "metadata": {},
   "outputs": [
    {
     "name": "stdout",
     "output_type": "stream",
     "text": [
      "0.806\n"
     ]
    }
   ],
   "source": [
    "tlist = get_t_list(iterations,N)\n",
    "df1 = pd.DataFrame(tlist,columns=['tstat'])\n",
    "df1['sig'] = np.where(np.abs(df1['tstat'])>=1.96,1,0)\n",
    "print(df1['sig'].mean())"
   ]
  }
 ],
 "metadata": {
  "kernelspec": {
   "display_name": "Python 3",
   "language": "python",
   "name": "python3"
  },
  "language_info": {
   "codemirror_mode": {
    "name": "ipython",
    "version": 3
   },
   "file_extension": ".py",
   "mimetype": "text/x-python",
   "name": "python",
   "nbconvert_exporter": "python",
   "pygments_lexer": "ipython3",
   "version": "3.7.4"
  }
 },
 "nbformat": 4,
 "nbformat_minor": 2
}
